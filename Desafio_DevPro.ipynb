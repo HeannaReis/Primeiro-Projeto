{
  "nbformat": 4,
  "nbformat_minor": 0,
  "metadata": {
    "colab": {
      "name": "Desafio DevPro.ipynb",
      "provenance": [],
      "authorship_tag": "ABX9TyNwvS6uHxPN5jA2vTdpxq3c",
      "include_colab_link": true
    },
    "kernelspec": {
      "name": "python3",
      "display_name": "Python 3"
    },
    "language_info": {
      "name": "python"
    }
  },
  "cells": [
    {
      "cell_type": "markdown",
      "metadata": {
        "id": "view-in-github",
        "colab_type": "text"
      },
      "source": [
        "<a href=\"https://colab.research.google.com/github/HeannaReis/Primeiro-Projeto/blob/master/Desafio_DevPro.ipynb\" target=\"_parent\"><img src=\"https://colab.research.google.com/assets/colab-badge.svg\" alt=\"Open In Colab\"/></a>"
      ]
    },
    {
      "cell_type": "markdown",
      "metadata": {
        "id": "GNp2aw1qwnqN"
      },
      "source": [
        "# Desafio DevPro"
      ]
    },
    {
      "cell_type": "markdown",
      "metadata": {
        "id": "zkZrfsFhwxyZ"
      },
      "source": [
        "Nesse Notebook vamos resolver vários exercícios da [Lista Phyton Brasil ](https://wiki.python.org.br/ListaDeExercicios)\n",
        "\n"
      ]
    },
    {
      "cell_type": "markdown",
      "metadata": {
        "id": "vQTAHyRWwUn0"
      },
      "source": [
        "# [Estrutura Sequencial](https://wiki.python.org.br/EstruturaSequencial)"
      ]
    },
    {
      "cell_type": "code",
      "metadata": {
        "colab": {
          "base_uri": "https://localhost:8080/"
        },
        "id": "PGM6bofIyJt6",
        "outputId": "b45aebb8-8d6c-4fc0-d144-a93a64ef072d"
      },
      "source": [
        "print ('Olá Mundo!!!')"
      ],
      "execution_count": null,
      "outputs": [
        {
          "output_type": "stream",
          "text": [
            "Olá Mundo!!!\n"
          ],
          "name": "stdout"
        }
      ]
    },
    {
      "cell_type": "code",
      "metadata": {
        "colab": {
          "base_uri": "https://localhost:8080/"
        },
        "id": "I8Q-6OYGyeq_",
        "outputId": "23afdf4a-c6a6-4b56-92dd-8cab0581309e"
      },
      "source": [
        "type ('Olá Mundo!!!')"
      ],
      "execution_count": null,
      "outputs": [
        {
          "output_type": "execute_result",
          "data": {
            "text/plain": [
              "str"
            ]
          },
          "metadata": {
            "tags": []
          },
          "execution_count": 8
        }
      ]
    },
    {
      "cell_type": "markdown",
      "metadata": {
        "id": "dyjl0Vejy0pb"
      },
      "source": [
        "**Exercício 2**"
      ]
    },
    {
      "cell_type": "code",
      "metadata": {
        "colab": {
          "base_uri": "https://localhost:8080/"
        },
        "id": "ELV6ZmESzCgn",
        "outputId": "1ccce8b9-8eee-48bc-c5ca-c08cb9a3e16f"
      },
      "source": [
        "numero = input ('Digite um número:')\n",
        "print (f'O número informado foi {numero} ')"
      ],
      "execution_count": null,
      "outputs": [
        {
          "output_type": "stream",
          "text": [
            "Digite um número:328\n",
            "O número informado foi 328 \n"
          ],
          "name": "stdout"
        }
      ]
    },
    {
      "cell_type": "markdown",
      "metadata": {
        "id": "Epb1EBFe1DPX"
      },
      "source": [
        "**Exercício 3**"
      ]
    },
    {
      "cell_type": "code",
      "metadata": {
        "colab": {
          "base_uri": "https://localhost:8080/"
        },
        "id": "4qgN48xX1H3L",
        "outputId": "3181081e-2b13-4b4b-8713-fb75cbaf5ca1"
      },
      "source": [
        "numero_1 = int (input ('Digite um numero: '))\n",
        "numero_2 = int (input ('Digite outro numero: '))\n",
        "SOMA = numero_1 + numero_2\n",
        "print (f'A soma dos dois numeros é: {SOMA}')"
      ],
      "execution_count": null,
      "outputs": [
        {
          "output_type": "stream",
          "text": [
            "Digite um numero: 12\n",
            "Digite outro numero: 5\n",
            "A soma dos dois numeros é: 17\n"
          ],
          "name": "stdout"
        }
      ]
    },
    {
      "cell_type": "markdown",
      "metadata": {
        "id": "_hpcycNU4euK"
      },
      "source": [
        "**Lição de Casa: Exercício 17**"
      ]
    },
    {
      "cell_type": "code",
      "metadata": {
        "colab": {
          "base_uri": "https://localhost:8080/"
        },
        "id": "uFPryw1E4kf7",
        "outputId": "16eb2f58-f54c-43fe-c757-ea855de8aa69"
      },
      "source": [
        "import math\n",
        "\n",
        "area_a_ser_pintada = int (input('Digite a area a ser pintada em metros quadrados: ')) # area em metros quadrados\n",
        "area_com_folga = area_a_ser_pintada * 1.1\n",
        "litros_por_metro = 6\n",
        "litros_a_serem_usados = area_com_folga / litros_por_metro\n",
        "litros_por_lata = 18\n",
        "numero_de_latas = math.ceil (litros_a_serem_usados / litros_por_lata)\n",
        "valor_com_apenas_latas = numero_de_latas * 80\n",
        "print (f'você deverá usar {numero_de_latas} latas de 18 litros, no valor de R$ {valor_com_apenas_latas}')\n",
        "\n",
        "litros_por_galao = 3.6\n",
        "numero_de_galoes = math.ceil (litros_a_serem_usados / litros_por_galao)\n",
        "valor_com_apenas_galoes = numero_de_galoes * 25\n",
        "print (f'você deverá usar {numero_de_galoes} galoes de 3.6 litros, no valor de R$ {valor_com_apenas_galoes}')\n",
        "\n",
        "\n",
        "# compra de Tinta otimiza por valor\n",
        "numero_de_latas = math.floor (litros_a_serem_usados / litros_por_lata)\n",
        "valor_de_latas = numero_de_latas * 80\n",
        "litros_faltantes = litros_a_serem_usados % litros_por_lata\n",
        "numero_de_galoes = math.ceil (litros_faltantes / litros_por_galao)\n",
        "valor_com_galoes = numero_de_galoes * 25\n",
        "\n",
        "valor_total = valor_de_latas + valor_com_galoes\n",
        "\n",
        "print (f'Voce deverá usar {numero_de_latas} latas de 18 litros, mais {numero_de_galoes} galoes de 3.6 litros, no valor de R$ {valor_total}')\n",
        "if numero_de_latas == '0':\n",
        "   print (f'utilize apenas {numero_de_galoes} galoes de 3.6 litros, no valor de R$ {valor_total}')"
      ],
      "execution_count": 91,
      "outputs": [
        {
          "output_type": "stream",
          "text": [
            "Digite a area a ser pintada em metros quadrados: 45\n",
            "você deverá usar 1 latas de 18 litros, no valor de R$ 80\n",
            "você deverá usar 3 galoes de 3.6 litros, no valor de R$ 75\n",
            "Voce deverá usar 0 latas de 18 litros, mais 3 galoes de 3.6 litros, no valor de R$ 75\n"
          ],
          "name": "stdout"
        }
      ]
    },
    {
      "cell_type": "markdown",
      "metadata": {
        "id": "LhaPRRthcnAN"
      },
      "source": [
        ""
      ]
    }
  ]
}