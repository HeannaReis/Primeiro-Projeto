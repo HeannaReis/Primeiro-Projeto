{
  "nbformat": 4,
  "nbformat_minor": 0,
  "metadata": {
    "colab": {
      "name": "Desafio DevPro.ipynb",
      "provenance": [],
      "collapsed_sections": [],
      "authorship_tag": "ABX9TyNTw5IbJftVwNRMbXUIK15+",
      "include_colab_link": true
    },
    "kernelspec": {
      "name": "python3",
      "display_name": "Python 3"
    },
    "language_info": {
      "name": "python"
    }
  },
  "cells": [
    {
      "cell_type": "markdown",
      "metadata": {
        "id": "view-in-github",
        "colab_type": "text"
      },
      "source": [
        "<a href=\"https://colab.research.google.com/github/HeannaReis/Primeiro-Projeto/blob/master/Desafio_DevPro.ipynb\" target=\"_parent\"><img src=\"https://colab.research.google.com/assets/colab-badge.svg\" alt=\"Open In Colab\"/></a>"
      ]
    },
    {
      "cell_type": "markdown",
      "metadata": {
        "id": "AmGKs3Y1VkEx"
      },
      "source": [
        "Nesse Notebook Vamos resolver vários exercícios da [Lista Phyton Brasil](https://wiki.python.org.br/ListaDeExercicios)"
      ]
    },
    {
      "cell_type": "markdown",
      "metadata": {
        "id": "Uu6cAsqNWIv5"
      },
      "source": [
        "## [**Estrutura Sequencial**](https://wiki.python.org.br/EstruturaSequencial)"
      ]
    },
    {
      "cell_type": "code",
      "metadata": {
        "colab": {
          "base_uri": "https://localhost:8080/"
        },
        "id": "cNnMRjjLWjO2",
        "outputId": "645095a3-1025-41fc-ab8d-9a29196a6a1f"
      },
      "source": [
        "print ('Olá Mundo!!!')"
      ],
      "execution_count": 6,
      "outputs": [
        {
          "output_type": "stream",
          "text": [
            "Olá Mundo!!!\n"
          ],
          "name": "stdout"
        }
      ]
    },
    {
      "cell_type": "code",
      "metadata": {
        "colab": {
          "base_uri": "https://localhost:8080/"
        },
        "id": "IIuIPQwvWvjM",
        "outputId": "74120f85-86fd-4f3d-de8c-058f68bb3d01"
      },
      "source": [
        "type ('Olá Mundo!!!')"
      ],
      "execution_count": 7,
      "outputs": [
        {
          "output_type": "execute_result",
          "data": {
            "text/plain": [
              "str"
            ]
          },
          "metadata": {
            "tags": []
          },
          "execution_count": 7
        }
      ]
    },
    {
      "cell_type": "markdown",
      "metadata": {
        "id": "TaUaaDNEXGRX"
      },
      "source": [
        "## **Exercício 2**"
      ]
    },
    {
      "cell_type": "code",
      "metadata": {
        "colab": {
          "base_uri": "https://localhost:8080/"
        },
        "id": "GPQL4Kn6XLbN",
        "outputId": "2aaa0b45-afed-4d6f-b587-733d2aea85e4"
      },
      "source": [
        "# Solicitar que digite um número e pintar na tela\n",
        "numero = input ('Digite um número:')\n",
        "print (f'O número informado foi {numero} ')"
      ],
      "execution_count": 8,
      "outputs": [
        {
          "output_type": "stream",
          "text": [
            "Digite um número:45\n",
            "O número informado foi 45 \n"
          ],
          "name": "stdout"
        }
      ]
    },
    {
      "cell_type": "markdown",
      "metadata": {
        "id": "jC45Qf3mXVAg"
      },
      "source": [
        "# **Exercício 3**"
      ]
    },
    {
      "cell_type": "code",
      "metadata": {
        "colab": {
          "base_uri": "https://localhost:8080/"
        },
        "id": "VeRvYa_FXe39",
        "outputId": "75f87ed0-2530-4f9c-dd6e-bc898f2c35fe"
      },
      "source": [
        "# Somar dois números\n",
        "numero_1 = int (input ('Digite um numero: '))\n",
        "numero_2 = int (input ('Digite outro numero: '))\n",
        "SOMA = numero_1 + numero_2\n",
        "print (f'A soma dos dois numeros é: {SOMA}')"
      ],
      "execution_count": 9,
      "outputs": [
        {
          "output_type": "stream",
          "text": [
            "Digite um numero: 45\n",
            "Digite outro numero: 5\n",
            "A soma dos dois numeros é: 50\n"
          ],
          "name": "stdout"
        }
      ]
    },
    {
      "cell_type": "markdown",
      "metadata": {
        "id": "DHztpn4zX6jv"
      },
      "source": [
        "## **Lição de Casa Exercício 17**"
      ]
    },
    {
      "cell_type": "code",
      "metadata": {
        "id": "VaxzXA3JYT4h"
      },
      "source": [
        "# Faça um Programa para uma loja de tintas. O programa deverá pedir o tamanho em metros quadrados da área a ser pintada.\n",
        "# Considere que a cobertura da tinta é de 1 litro para cada 6 metros quadrados e que a tinta é vendida em latas de 18 litros,\n",
        "# que custam R$ 80,00 ou em galões de 3,6 litros, que custam R$ 25,00.\n",
        "# Informe ao usuário as quantidades de tinta a serem compradas e os respectivos preços em 3 situações:\n",
        "# comprar apenas latas de 18 litros;\n",
        "# comprar apenas galões de 3,6 litros;\n",
        "# misturar latas e galões, de forma que o desperdício de tinta seja menor.\n",
        "# Acrescente 10% de folga e sempre arredonde os valores para cima, isto é, considere latas cheias.\n",
        "\n",
        "import math\n",
        "\n",
        "area_a_ser_pintada = int (input('Digite a area a ser pintada em metros quadrados: ')) # area em metros quadrados\n",
        "area_com_folga = area_a_ser_pintada * 1.1\n",
        "litros_por_metro = 6\n",
        "litros_a_serem_usados = area_com_folga / litros_por_metro\n",
        "litros_por_lata = 18\n",
        "numero_de_latas = math.ceil (litros_a_serem_usados / litros_por_lata)\n",
        "valor_com_apenas_latas = numero_de_latas * 80\n",
        "print (f'Você utilizará {numero_de_latas} latas de 18 litros, no valor de R$ {valor_com_apenas_latas}')\n",
        "\n",
        "litros_por_galao = 3.6\n",
        "numero_de_galoes = math.ceil (litros_a_serem_usados / litros_por_galao)\n",
        "valor_com_apenas_galoes = numero_de_galoes * 25\n",
        "print (f'Você utilizará {numero_de_galoes} galoes de 3.6 litros, no valor de R$ {valor_com_apenas_galoes}')\n",
        "\n",
        "\n",
        "# compra de Tinta otimiza por valor\n",
        "numero_de_latas = math.floor (litros_a_serem_usados / litros_por_lata)\n",
        "valor_de_latas = numero_de_latas * 80\n",
        "litros_faltantes = litros_a_serem_usados % litros_por_lata\n",
        "numero_de_galoes = math.ceil (litros_faltantes / litros_por_galao)\n",
        "valor_com_galoes = numero_de_galoes * 25\n",
        " \n",
        "valor_total = valor_de_latas + valor_com_galoes\n",
        "\n",
        "\n",
        "if numero_de_latas != 0:\n",
        "  print (f'Voce utilizará {numero_de_latas} latas de 18 litros, mais {numero_de_galoes} galoes de 3.6 litros, no valor de R$ {valor_total}')\n",
        "   \n",
        "else:\n",
        "  print (f'Utilize apenas {numero_de_galoes} galoes de 3.6 litros, no valor de R$ {valor_total}')\n"
      ],
      "execution_count": null,
      "outputs": []
    },
    {
      "cell_type": "code",
      "metadata": {
        "id": "ukcPHwmsZqBm"
      },
      "source": [
        ""
      ],
      "execution_count": null,
      "outputs": []
    }
  ]
}